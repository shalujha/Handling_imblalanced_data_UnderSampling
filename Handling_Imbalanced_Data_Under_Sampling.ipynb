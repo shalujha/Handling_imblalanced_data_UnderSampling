{
  "nbformat": 4,
  "nbformat_minor": 0,
  "metadata": {
    "colab": {
      "name": "Handling_Imbalanced_Data-Under_Sampling.ipynb",
      "provenance": []
    },
    "kernelspec": {
      "name": "python3",
      "display_name": "Python 3"
    }
  },
  "cells": [
    {
      "cell_type": "code",
      "metadata": {
        "id": "9WBciGAEZrn9",
        "colab_type": "code",
        "colab": {
          "base_uri": "https://localhost:8080/",
          "height": 474
        },
        "outputId": "1f8a8d96-63f1-4bb0-824d-15b8e00eef45"
      },
      "source": [
        "!wget https://www.dropbox.com/s/lkttph5qdkxwedk/310_23498_bundle_archive.zip?dl=0"
      ],
      "execution_count": 1,
      "outputs": [
        {
          "output_type": "stream",
          "text": [
            "--2020-08-15 09:15:57--  https://www.dropbox.com/s/lkttph5qdkxwedk/310_23498_bundle_archive.zip?dl=0\n",
            "Resolving www.dropbox.com (www.dropbox.com)... 162.125.82.1, 2620:100:6032:1::a27d:5201\n",
            "Connecting to www.dropbox.com (www.dropbox.com)|162.125.82.1|:443... connected.\n",
            "HTTP request sent, awaiting response... 301 Moved Permanently\n",
            "Location: /s/raw/lkttph5qdkxwedk/310_23498_bundle_archive.zip [following]\n",
            "--2020-08-15 09:15:58--  https://www.dropbox.com/s/raw/lkttph5qdkxwedk/310_23498_bundle_archive.zip\n",
            "Reusing existing connection to www.dropbox.com:443.\n",
            "HTTP request sent, awaiting response... 302 Found\n",
            "Location: https://uc29f4dddc3796ef1d0609c5b761.dl.dropboxusercontent.com/cd/0/inline/A9dMqS8tmkuLq8EbemFBZFkaZ4ZpSSonJOfZHSRaJeaoCUrYD6zoquAfzrV9iLXQNmuDbmPRJ3jSpHyBgXnkfL3bDuVnNN2kjENpYf9zMZXdBo8LzyJBD9LGEG9GbbW5EoM/file# [following]\n",
            "--2020-08-15 09:15:58--  https://uc29f4dddc3796ef1d0609c5b761.dl.dropboxusercontent.com/cd/0/inline/A9dMqS8tmkuLq8EbemFBZFkaZ4ZpSSonJOfZHSRaJeaoCUrYD6zoquAfzrV9iLXQNmuDbmPRJ3jSpHyBgXnkfL3bDuVnNN2kjENpYf9zMZXdBo8LzyJBD9LGEG9GbbW5EoM/file\n",
            "Resolving uc29f4dddc3796ef1d0609c5b761.dl.dropboxusercontent.com (uc29f4dddc3796ef1d0609c5b761.dl.dropboxusercontent.com)... 162.125.82.15, 2620:100:6032:15::a27d:520f\n",
            "Connecting to uc29f4dddc3796ef1d0609c5b761.dl.dropboxusercontent.com (uc29f4dddc3796ef1d0609c5b761.dl.dropboxusercontent.com)|162.125.82.15|:443... connected.\n",
            "HTTP request sent, awaiting response... 302 Found\n",
            "Location: /cd/0/inline2/A9f5hmsaU0l_ZnumTzHYgYbqzT5HAPRwTOzd_0rdHMFKme9qDjfufLz9oXdCXqoZEN9DMIIJNC5X9t2rrlV5Zp1uXd9EZljAz4G8vGad8O18bYwPoP2Jp4Unt-2f840Xts7h5FTPIbLF762xzZ4chn91t2rN5rXCXUjmBBMH6N_xeG9fvQZKQ8ru65nNeGZgxaKVhkTZorVagEkXCbUZttf7Ta-IcAm2bX_ZZ8RDruQ3owufq9pRO_4W-3neIfeDijPvmOJD3yzYiGFL6ad5g2fH6lwpGwmYu25VE8KxGJii_OAeEYnDySRwlAO8Kb1LyXs1VCUmo2GvAlPWaRGJnjZ0-iytq1Lxm7d7nszgjDHxmQ/file [following]\n",
            "--2020-08-15 09:15:58--  https://uc29f4dddc3796ef1d0609c5b761.dl.dropboxusercontent.com/cd/0/inline2/A9f5hmsaU0l_ZnumTzHYgYbqzT5HAPRwTOzd_0rdHMFKme9qDjfufLz9oXdCXqoZEN9DMIIJNC5X9t2rrlV5Zp1uXd9EZljAz4G8vGad8O18bYwPoP2Jp4Unt-2f840Xts7h5FTPIbLF762xzZ4chn91t2rN5rXCXUjmBBMH6N_xeG9fvQZKQ8ru65nNeGZgxaKVhkTZorVagEkXCbUZttf7Ta-IcAm2bX_ZZ8RDruQ3owufq9pRO_4W-3neIfeDijPvmOJD3yzYiGFL6ad5g2fH6lwpGwmYu25VE8KxGJii_OAeEYnDySRwlAO8Kb1LyXs1VCUmo2GvAlPWaRGJnjZ0-iytq1Lxm7d7nszgjDHxmQ/file\n",
            "Reusing existing connection to uc29f4dddc3796ef1d0609c5b761.dl.dropboxusercontent.com:443.\n",
            "HTTP request sent, awaiting response... 200 OK\n",
            "Length: 69155672 (66M) [application/zip]\n",
            "Saving to: ‘310_23498_bundle_archive.zip?dl=0’\n",
            "\n",
            "310_23498_bundle_ar 100%[===================>]  65.95M  12.7MB/s    in 5.0s    \n",
            "\n",
            "2020-08-15 09:16:04 (13.1 MB/s) - ‘310_23498_bundle_archive.zip?dl=0’ saved [69155672/69155672]\n",
            "\n"
          ],
          "name": "stdout"
        }
      ]
    },
    {
      "cell_type": "code",
      "metadata": {
        "id": "jf3qzUGWZzNB",
        "colab_type": "code",
        "colab": {
          "base_uri": "https://localhost:8080/",
          "height": 54
        },
        "outputId": "2b22c1a3-c5b4-455d-a7aa-e6acb0d4ab28"
      },
      "source": [
        "!unzip '310_23498_bundle_archive.zip?dl=0' -d \"data/\""
      ],
      "execution_count": 2,
      "outputs": [
        {
          "output_type": "stream",
          "text": [
            "Archive:  310_23498_bundle_archive.zip?dl=0\n",
            "  inflating: data/creditcard.csv     \n"
          ],
          "name": "stdout"
        }
      ]
    },
    {
      "cell_type": "code",
      "metadata": {
        "id": "Zej8_tcJaMbT",
        "colab_type": "code",
        "colab": {}
      },
      "source": [
        "import pandas as pd\n",
        "import matplotlib.pyplot as plt"
      ],
      "execution_count": 3,
      "outputs": []
    },
    {
      "cell_type": "code",
      "metadata": {
        "id": "YRN1vXwVaUkJ",
        "colab_type": "code",
        "colab": {}
      },
      "source": [
        "df=pd.read_csv('/content/data/creditcard.csv')"
      ],
      "execution_count": 4,
      "outputs": []
    },
    {
      "cell_type": "code",
      "metadata": {
        "id": "QjTYHc3qaaJi",
        "colab_type": "code",
        "colab": {
          "base_uri": "https://localhost:8080/",
          "height": 163
        },
        "outputId": "544094a3-83f5-40bc-ec80-bdcfdbbdfd1d"
      },
      "source": [
        "print(df.head())"
      ],
      "execution_count": 5,
      "outputs": [
        {
          "output_type": "stream",
          "text": [
            "   Time        V1        V2        V3  ...       V27       V28  Amount  Class\n",
            "0   0.0 -1.359807 -0.072781  2.536347  ...  0.133558 -0.021053  149.62      0\n",
            "1   0.0  1.191857  0.266151  0.166480  ... -0.008983  0.014724    2.69      0\n",
            "2   1.0 -1.358354 -1.340163  1.773209  ... -0.055353 -0.059752  378.66      0\n",
            "3   1.0 -0.966272 -0.185226  1.792993  ...  0.062723  0.061458  123.50      0\n",
            "4   2.0 -1.158233  0.877737  1.548718  ...  0.219422  0.215153   69.99      0\n",
            "\n",
            "[5 rows x 31 columns]\n"
          ],
          "name": "stdout"
        }
      ]
    },
    {
      "cell_type": "code",
      "metadata": {
        "id": "G8fqpkdmacCz",
        "colab_type": "code",
        "colab": {
          "base_uri": "https://localhost:8080/",
          "height": 108
        },
        "outputId": "45982b2a-b0eb-42db-ac82-fe088f1f16a9"
      },
      "source": [
        "cols=df.columns\n",
        "print(cols)"
      ],
      "execution_count": 9,
      "outputs": [
        {
          "output_type": "stream",
          "text": [
            "Index(['Time', 'V1', 'V2', 'V3', 'V4', 'V5', 'V6', 'V7', 'V8', 'V9', 'V10',\n",
            "       'V11', 'V12', 'V13', 'V14', 'V15', 'V16', 'V17', 'V18', 'V19', 'V20',\n",
            "       'V21', 'V22', 'V23', 'V24', 'V25', 'V26', 'V27', 'V28', 'Amount',\n",
            "       'Class'],\n",
            "      dtype='object')\n"
          ],
          "name": "stdout"
        }
      ]
    },
    {
      "cell_type": "code",
      "metadata": {
        "id": "OGGTyIgmbFMU",
        "colab_type": "code",
        "colab": {}
      },
      "source": [
        "X=df[cols[:-1]]\n",
        "Y=df[cols[-1]]"
      ],
      "execution_count": 18,
      "outputs": []
    },
    {
      "cell_type": "code",
      "metadata": {
        "id": "6A9nd2PMbhUA",
        "colab_type": "code",
        "colab": {
          "base_uri": "https://localhost:8080/",
          "height": 35
        },
        "outputId": "f8f9fa61-bdab-458a-e280-523c273b6ebc"
      },
      "source": [
        "print(X.shape,Y.shape)"
      ],
      "execution_count": 16,
      "outputs": [
        {
          "output_type": "stream",
          "text": [
            "(284807, 30) (284807,)\n"
          ],
          "name": "stdout"
        }
      ]
    },
    {
      "cell_type": "code",
      "metadata": {
        "id": "K8bMVD45bsM5",
        "colab_type": "code",
        "colab": {}
      },
      "source": [
        "# Exploratory Data Analysis : \n",
        "# lets see how the data is distributed "
      ],
      "execution_count": 22,
      "outputs": []
    },
    {
      "cell_type": "code",
      "metadata": {
        "id": "PRPBQ-dlb0oh",
        "colab_type": "code",
        "colab": {
          "base_uri": "https://localhost:8080/",
          "height": 35
        },
        "outputId": "0924c7d5-e24d-46f2-b175-1177096bdf56"
      },
      "source": [
        "frequency_counts=Y.value_counts()\n",
        "fraud=frequency_counts[1]\n",
        "Normal=frequency_counts[0]\n",
        "print(fraud,Normal)"
      ],
      "execution_count": 46,
      "outputs": [
        {
          "output_type": "stream",
          "text": [
            "492 284315\n"
          ],
          "name": "stdout"
        }
      ]
    },
    {
      "cell_type": "code",
      "metadata": {
        "id": "BpkKKEA3cENm",
        "colab_type": "code",
        "colab": {
          "base_uri": "https://localhost:8080/",
          "height": 376
        },
        "outputId": "e75147ef-0641-466f-c314-8283a43e587a"
      },
      "source": [
        "classes=[1,0]\n",
        "Labels=[\"Normal\",\"Fraud\"]\n",
        "frequency=[fraud,Normal]\n",
        "plt.style.use('seaborn')\n",
        "plt.title('Transaction class Distribution')\n",
        "plt.bar(classes,frequency)\n",
        "plt.xticks(range(2),Labels)\n",
        "plt.xlabel('Classes')\n",
        "plt.ylabel('Frequency')\n",
        "plt.show()"
      ],
      "execution_count": 47,
      "outputs": [
        {
          "output_type": "display_data",
          "data": {
            "image/png": "[encoded data removed]",
            "text/plain": [
              "<Figure size 576x396 with 1 Axes>"
            ]
          },
          "metadata": {
            "tags": []
          }
        }
      ]
    },
    {
      "cell_type": "code",
      "metadata": {
        "id": "ENnxP9lAeRjA",
        "colab_type": "code",
        "colab": {}
      },
      "source": [
        "# seperate the dataset on the basis of their classes :\n",
        "fraud=df[df['Class']==1]\n",
        "Normal=df[df['Class']==0]"
      ],
      "execution_count": 49,
      "outputs": []
    },
    {
      "cell_type": "code",
      "metadata": {
        "id": "rtCFHz22gFh2",
        "colab_type": "code",
        "colab": {
          "base_uri": "https://localhost:8080/",
          "height": 35
        },
        "outputId": "c508d796-3d31-4e24-ec5d-67aba7d3a34c"
      },
      "source": [
        "print(fraud.shape,Normal.shape)"
      ],
      "execution_count": 50,
      "outputs": [
        {
          "output_type": "stream",
          "text": [
            "(492, 31) (284315, 31)\n"
          ],
          "name": "stdout"
        }
      ]
    },
    {
      "cell_type": "code",
      "metadata": {
        "id": "Rk3O-KmNgjCa",
        "colab_type": "code",
        "colab": {
          "base_uri": "https://localhost:8080/",
          "height": 110
        },
        "outputId": "1ca9598a-f3f3-4f35-b912-2dc4936c26ba"
      },
      "source": [
        "from imblearn.under_sampling import NearMiss"
      ],
      "execution_count": 52,
      "outputs": [
        {
          "output_type": "stream",
          "text": [
            "/usr/local/lib/python3.6/dist-packages/sklearn/externals/six.py:31: FutureWarning: The module is deprecated in version 0.21 and will be removed in version 0.23 since we've dropped support for Python 2.7. Please rely on the official version of six (https://pypi.org/project/six/).\n",
            "  \"(https://pypi.org/project/six/).\", FutureWarning)\n",
            "/usr/local/lib/python3.6/dist-packages/sklearn/utils/deprecation.py:144: FutureWarning: The sklearn.neighbors.base module is  deprecated in version 0.22 and will be removed in version 0.24. The corresponding classes / functions should instead be imported from sklearn.neighbors. Anything that cannot be imported from sklearn.neighbors is now part of the private API.\n",
            "  warnings.warn(message, FutureWarning)\n"
          ],
          "name": "stderr"
        }
      ]
    },
    {
      "cell_type": "code",
      "metadata": {
        "id": "-PmEuKx7gw81",
        "colab_type": "code",
        "colab": {
          "base_uri": "https://localhost:8080/",
          "height": 146
        },
        "outputId": "8d01c93b-64c8-43f2-98ff-e99a4ef17029"
      },
      "source": [
        "ns=NearMiss(random_state=78)\n",
        "X_res,Y_res=ns.fit_sample(X,Y)"
      ],
      "execution_count": 64,
      "outputs": [
        {
          "output_type": "stream",
          "text": [
            "/usr/local/lib/python3.6/dist-packages/sklearn/utils/deprecation.py:87: FutureWarning: Function safe_indexing is deprecated; safe_indexing is deprecated in version 0.22 and will be removed in version 0.24.\n",
            "  warnings.warn(msg, category=FutureWarning)\n",
            "/usr/local/lib/python3.6/dist-packages/sklearn/utils/deprecation.py:87: FutureWarning: Function safe_indexing is deprecated; safe_indexing is deprecated in version 0.22 and will be removed in version 0.24.\n",
            "  warnings.warn(msg, category=FutureWarning)\n",
            "/usr/local/lib/python3.6/dist-packages/sklearn/utils/deprecation.py:87: FutureWarning: Function safe_indexing is deprecated; safe_indexing is deprecated in version 0.22 and will be removed in version 0.24.\n",
            "  warnings.warn(msg, category=FutureWarning)\n"
          ],
          "name": "stderr"
        }
      ]
    },
    {
      "cell_type": "code",
      "metadata": {
        "id": "tRseDFaEg9zM",
        "colab_type": "code",
        "colab": {
          "base_uri": "https://localhost:8080/",
          "height": 35
        },
        "outputId": "06bfb619-be42-4dc9-991b-8c9b97cef7de"
      },
      "source": [
        "print(X_res.shape,Y_res.shape)"
      ],
      "execution_count": 65,
      "outputs": [
        {
          "output_type": "stream",
          "text": [
            "(984, 30) (984,)\n"
          ],
          "name": "stdout"
        }
      ]
    },
    {
      "cell_type": "code",
      "metadata": {
        "id": "qbPFAZWghJqp",
        "colab_type": "code",
        "colab": {
          "base_uri": "https://localhost:8080/",
          "height": 35
        },
        "outputId": "16a7559c-7d39-4880-f727-dd1a02748e88"
      },
      "source": [
        "# so now data is balanced \n",
        "#print(Y_res.value_counts())\n",
        "import numpy as np\n",
        "print(type(Y_res))"
      ],
      "execution_count": 69,
      "outputs": [
        {
          "output_type": "stream",
          "text": [
            "<class 'numpy.ndarray'>\n"
          ],
          "name": "stdout"
        }
      ]
    },
    {
      "cell_type": "code",
      "metadata": {
        "id": "lqxC-6O9hNQW",
        "colab_type": "code",
        "colab": {
          "base_uri": "https://localhost:8080/",
          "height": 35
        },
        "outputId": "b20f1eff-32ae-4662-8e19-1ef72ce72ddf"
      },
      "source": [
        "print(np.unique(Y_res,return_counts=True))"
      ],
      "execution_count": 70,
      "outputs": [
        {
          "output_type": "stream",
          "text": [
            "(array([0, 1]), array([492, 492]))\n"
          ],
          "name": "stdout"
        }
      ]
    },
    {
      "cell_type": "code",
      "metadata": {
        "id": "EX-dDOOUh0_Z",
        "colab_type": "code",
        "colab": {}
      },
      "source": [
        "# cool! data is now balanced .This Process is called Under Sampling"
      ],
      "execution_count": null,
      "outputs": []
    }
  ]
}